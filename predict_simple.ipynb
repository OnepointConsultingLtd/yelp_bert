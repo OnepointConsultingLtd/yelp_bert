{
 "cells": [
  {
   "cell_type": "code",
   "execution_count": 1,
   "metadata": {},
   "outputs": [],
   "source": [
    "%load_ext autoreload\n",
    "%autoreload 2\n",
    "\n",
    "%matplotlib inline"
   ]
  },
  {
   "cell_type": "code",
   "execution_count": 2,
   "metadata": {},
   "outputs": [],
   "source": [
    "import torch\n",
    "from pathlib import Path\n",
    "from transformers import AutoTokenizer\n",
    "import numpy as np\n",
    "import torch\n",
    "import config"
   ]
  },
  {
   "cell_type": "code",
   "execution_count": 3,
   "metadata": {},
   "outputs": [],
   "source": [
    "path = Path('/data/yelp/model_save')\n",
    "assert path.exists()"
   ]
  },
  {
   "cell_type": "code",
   "execution_count": 4,
   "metadata": {},
   "outputs": [
    {
     "name": "stdout",
     "output_type": "stream",
     "text": [
      "model  special_tokens_map.json\ttokenizer_config.json  vocab.txt\n"
     ]
    }
   ],
   "source": [
    "!ls {path}"
   ]
  },
  {
   "cell_type": "code",
   "execution_count": 5,
   "metadata": {},
   "outputs": [],
   "source": [
    "def load_model():\n",
    "    model = torch.load(path/'model')\n",
    "    model.cpu()\n",
    "    model.eval();\n",
    "    return model"
   ]
  },
  {
   "cell_type": "code",
   "execution_count": 6,
   "metadata": {},
   "outputs": [],
   "source": [
    "tokenizer = AutoTokenizer.from_pretrained(config.PRE_TRAINED_MODEL_NAME)\n",
    "model = load_model()"
   ]
  },
  {
   "cell_type": "code",
   "execution_count": 7,
   "metadata": {},
   "outputs": [],
   "source": [
    "def encode(sequence):\n",
    "    return tokenizer.encode_plus(\n",
    "                sequence,\n",
    "                add_special_tokens=True,\n",
    "                max_length=512,\n",
    "                return_token_type_ids=False,\n",
    "                pad_to_max_length=True,\n",
    "                return_attention_mask=True,\n",
    "                return_tensors='pt'\n",
    "    )"
   ]
  },
  {
   "cell_type": "code",
   "execution_count": 18,
   "metadata": {},
   "outputs": [],
   "source": [
    "def predict(sequence='I love you a lot. You are really great. You are wonderful and awesome.'):\n",
    "    encoded = encode(sequence)\n",
    "    with torch.no_grad():\n",
    "        output = model(encoded['input_ids'].cpu(), token_type_ids=None, attention_mask=encoded['attention_mask'].cpu())[0]\n",
    "        pred_flat = np.argmax(output, axis=1).flatten()\n",
    "        sig_factor = torch.sigmoid(output) / torch.sigmoid(output).sum()\n",
    "        return {'proportional':  sig_factor.numpy().tolist(), 'sigmoid': torch.sigmoid(output).numpy().tolist(), 'stars': pred_flat.item() + 1, 'raw': output.numpy().tolist()}"
   ]
  },
  {
   "cell_type": "code",
   "execution_count": 19,
   "metadata": {},
   "outputs": [
    {
     "data": {
      "text/plain": [
       "{'proportional': [[0.01062739547342062,\n",
       "   0.01555375661700964,\n",
       "   0.0762726366519928,\n",
       "   0.4238334000110626,\n",
       "   0.47371283173561096]],\n",
       " 'sigmoid': [[0.022402459755539894,\n",
       "   0.03278718516230583,\n",
       "   0.1607820689678192,\n",
       "   0.8934372067451477,\n",
       "   0.9985826015472412]],\n",
       " 'stars': 5,\n",
       " 'raw': [[-3.7759273052215576,\n",
       "   -3.38438081741333,\n",
       "   -1.6524205207824707,\n",
       "   2.1263418197631836,\n",
       "   6.557493209838867]]}"
      ]
     },
     "execution_count": 19,
     "metadata": {},
     "output_type": "execute_result"
    }
   ],
   "source": [
    "predict()"
   ]
  },
  {
   "cell_type": "code",
   "execution_count": 10,
   "metadata": {},
   "outputs": [
    {
     "data": {
      "text/plain": [
       "{'proportional': tensor([[0.4823, 0.4148, 0.0824, 0.0080, 0.0125]]),\n",
       " 'sigmoid': tensor([[0.9988, 0.8588, 0.1707, 0.0166, 0.0258]]),\n",
       " 'stars': 1,\n",
       " 'raw': tensor([[ 6.6865,  1.8058, -1.5807, -4.0844, -3.6306]])}"
      ]
     },
     "execution_count": 10,
     "metadata": {},
     "output_type": "execute_result"
    }
   ],
   "source": [
    "predict('This is really terrible. Just avoid it')"
   ]
  },
  {
   "cell_type": "code",
   "execution_count": 11,
   "metadata": {},
   "outputs": [
    {
     "data": {
      "text/plain": [
       "{'proportional': tensor([[0.2590, 0.3784, 0.3179, 0.0350, 0.0096]]),\n",
       " 'sigmoid': tensor([[0.6652, 0.9718, 0.8163, 0.0899, 0.0248]]),\n",
       " 'stars': 2,\n",
       " 'raw': tensor([[ 0.6864,  3.5408,  1.4915, -2.3147, -3.6728]])}"
      ]
     },
     "execution_count": 11,
     "metadata": {},
     "output_type": "execute_result"
    }
   ],
   "source": [
    "predict('There are some good things and bad things about this business')"
   ]
  },
  {
   "cell_type": "code",
   "execution_count": 12,
   "metadata": {},
   "outputs": [
    {
     "data": {
      "text/plain": [
       "{'proportional': tensor([[0.1187, 0.2201, 0.2986, 0.1887, 0.1739]]),\n",
       " 'sigmoid': tensor([[0.2934, 0.5441, 0.7381, 0.4666, 0.4299]]),\n",
       " 'stars': 3,\n",
       " 'raw': tensor([[-0.8791,  0.1769,  1.0361, -0.1338, -0.2821]])}"
      ]
     },
     "execution_count": 12,
     "metadata": {},
     "output_type": "execute_result"
    }
   ],
   "source": [
    "predict('There are some bad things and good things about this business')"
   ]
  },
  {
   "cell_type": "code",
   "execution_count": 13,
   "metadata": {},
   "outputs": [
    {
     "data": {
      "text/plain": [
       "{'proportional': tensor([[0.0057, 0.0314, 0.3342, 0.3823, 0.2464]]),\n",
       " 'sigmoid': tensor([[0.0149, 0.0816, 0.8694, 0.9944, 0.6410]]),\n",
       " 'stars': 4,\n",
       " 'raw': tensor([[-4.1894, -2.4214,  1.8958,  5.1725,  0.5797]])}"
      ]
     },
     "execution_count": 13,
     "metadata": {},
     "output_type": "execute_result"
    }
   ],
   "source": [
    "predict('This is quite good. There are better products, but this is worth my recommendation too.')"
   ]
  },
  {
   "cell_type": "code",
   "execution_count": null,
   "metadata": {},
   "outputs": [],
   "source": []
  }
 ],
 "metadata": {
  "kernelspec": {
   "display_name": "Python 3",
   "language": "python",
   "name": "python3"
  },
  "language_info": {
   "codemirror_mode": {
    "name": "ipython",
    "version": 3
   },
   "file_extension": ".py",
   "mimetype": "text/x-python",
   "name": "python",
   "nbconvert_exporter": "python",
   "pygments_lexer": "ipython3",
   "version": "3.7.7"
  }
 },
 "nbformat": 4,
 "nbformat_minor": 4
}
