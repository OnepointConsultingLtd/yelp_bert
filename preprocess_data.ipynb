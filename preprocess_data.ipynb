{
 "cells": [
  {
   "cell_type": "code",
   "execution_count": 1,
   "metadata": {},
   "outputs": [],
   "source": [
    "%load_ext autoreload\n",
    "%autoreload 2\n",
    "\n",
    "%matplotlib inline"
   ]
  },
  {
   "cell_type": "code",
   "execution_count": 2,
   "metadata": {},
   "outputs": [],
   "source": [
    "import pandas as pd\n",
    "import numpy as np\n",
    "from pathlib import Path\n",
    "import json\n",
    "import seaborn as sns\n",
    "from collections import Counter"
   ]
  },
  {
   "cell_type": "code",
   "execution_count": 3,
   "metadata": {},
   "outputs": [],
   "source": [
    "path = Path('/data/yelp/')\n",
    "assert path.exists()"
   ]
  },
  {
   "cell_type": "code",
   "execution_count": 4,
   "metadata": {},
   "outputs": [
    {
     "name": "stdout",
     "output_type": "stream",
     "text": [
      "Dataset_User_Agreement.pdf\t     yelp_academic_dataset_review.json\r\n",
      "yelp_academic_dataset_business.json  yelp_academic_dataset_tip.json\r\n",
      "yelp_academic_dataset_checkin.json   yelp_academic_dataset_user.json\r\n"
     ]
    }
   ],
   "source": [
    "!ls {path}"
   ]
  },
  {
   "cell_type": "code",
   "execution_count": 5,
   "metadata": {},
   "outputs": [
    {
     "name": "stdout",
     "output_type": "stream",
     "text": [
      "{\"review_id\":\"xQY8N_XvtGbearJ5X4QryQ\",\"user_id\":\"OwjRMXRC0KyPrIlcjaXeFQ\",\"business_id\":\"-MhfebM0QIsKt87iDN-FNw\",\"stars\":2.0,\"useful\":5,\"funny\":0,\"cool\":0,\"text\":\"As someone who has worked with many museums, I was eager to visit this gallery on my most recent trip to Las Vegas. When I saw they would be showing infamous eggs of the House of Faberge from the Virginia Museum of Fine Arts (VMFA), I knew I had to go!\\n\\nTucked away near the gelateria and the garden, the Gallery is pretty much hidden from view. It's what real estate agents would call \\\"cozy\\\" or \\\"charming\\\" - basically any euphemism for small.\\n\\nThat being said, you can still see wonderful art at a gallery of any size, so why the two *s you ask? Let me tell you:\\n\\n* pricing for this, while relatively inexpensive for a Las Vegas attraction, is completely over the top. For the space and the amount of art you can fit in there, it is a bit much.\\n* it's not kid friendly at all. Seriously, don't bring them.\\n* the security is not trained properly for the show. When the curating and design teams collaborate for exhibitions, there is a definite flow. That means visitors should view the art in a certain sequence, whether it be by historical period or cultural significance (this is how audio guides are usually developed). When I arrived in the gallery I could not tell where to start, and security was certainly not helpful. I was told to \\\"just look around\\\" and \\\"do whatever.\\\" \\n\\nAt such a *fine* institution, I find the lack of knowledge and respect for the art appalling.\",\"date\":\"2015-04-15 05:21:16\"}\r\n",
      "{\"review_id\":\"UmFMZ8PyXZTY2QcwzsfQYA\",\"user_id\":\"nIJD_7ZXHq-FX8byPMOkMQ\",\"business_id\":\"lbrU8StCq3yDfr-QMnGrmQ\",\"stars\":1.0,\"useful\":1,\"funny\":1,\"cool\":0,\"text\":\"I am actually horrified this place is still in business. My 3 year old son needed a haircut this past summer and the lure of the $7 kids cut signs got me in the door. We had to wait a few minutes as both stylists were working on people. The decor in this place is total garbage. It is so tacky. The sofa they had at the time was a pleather sofa with giant holes in it. And my son noticed ants crawling all over the floor and the furniture. It was disgusting and I should have walked out then. Actually, I should have turned around and walked out upon entering but I didn't. So the older black male stylist finishes the haircut he was doing and it's our turn. I tell him I want a #2 clipper around the back and sides and then hand cut the top into a standard boys cut. Really freaking simple, right? WRONG! Rather than use the clippers and go up to actually cut the hair, he went down. Using it moving downward doesn't cut hair, it just rubs against it. How does this man who has an alleged cosmetology license not know how to use a set of freaking clippers??? I realized almost immediately that he had no idea what he was doing. No idea at all. After about 10 minutes of watching this guy stumble through it, I said \\\"you know what? That's fine.\\\", paid and left. All I wanted to do was get out of that scummy joint and take my son to a real haircut place.\\n\\nBottom line: DO NOT GO HERE. RUN THE OTHER WAY!!!!!\",\"date\":\"2013-12-07 03:16:52\"}\r\n",
      "{\"review_id\":\"LG2ZaYiOgpr2DK_90pYjNw\",\"user_id\":\"V34qejxNsCbcgD8C0HVk-Q\",\"business_id\":\"HQl28KMwrEKHqhFrrDqVNQ\",\"stars\":5.0,\"useful\":1,\"funny\":0,\"cool\":0,\"text\":\"I love Deagan's. I do. I really do. The atmosphere is cozy and festive. The shrimp tacos and house fries are my standbys. The fries are sometimes good and sometimes great, and the spicy dipping sauce they come with is to die for. The beer list is amazing and the cocktails are great. The prices are mid-level, so it's not a cheap dive you can go to every week, but rather a treat when you do. Try it out. You won't be disappointed!\",\"date\":\"2015-12-05 03:18:11\"}\r\n",
      "{\"review_id\":\"i6g_oA9Yf9Y31qt0wibXpw\",\"user_id\":\"ofKDkJKXSKZXu5xJNGiiBQ\",\"business_id\":\"5JxlZaqCnk1MnbgRirs40Q\",\"stars\":1.0,\"useful\":0,\"funny\":0,\"cool\":0,\"text\":\"Dismal, lukewarm, defrosted-tasting \\\"TexMex\\\" glop;\\n\\nMumbly, unengaged waiter;\\n\\nClueless manager, who seeing us with barely nibbled entrees\\non plates shoved forward for pickup, thanked us\\nperfunctorily for our patronage;\\n\\nWe're from the Texas Hill Country;\\ndown there, we jail critters \\nwho serve up grub this bad,\\nfor their own protection.\\n\\nNever, never, NEVER again\\n(Back to Yard House for real food)\",\"date\":\"2011-05-27 05:30:52\"}\r\n",
      "{\"review_id\":\"6TdNDKywdbjoTkizeMce8A\",\"user_id\":\"UgMW8bLE0QMJDCkQ1Ax5Mg\",\"business_id\":\"IS4cv902ykd8wj1TR0N3-A\",\"stars\":4.0,\"useful\":0,\"funny\":0,\"cool\":0,\"text\":\"Oh happy day, finally have a Canes near my casa. Yes just as others are griping about the Drive thru is packed just like most of the other canes in the area but I like to go sit down to enjoy my chicken. The cashiers are pleasant and as far as food wise i have yet to receive any funky chicken. The clean up crew zips around the dining area constantly so it's usually well kept. My only gripe is the one fella with Red hair he makes the rounds while cleaning but no smile or personality a few nights ago he tossed the napkins i just put on the table to help go with my meal. After I was done he just reached for my tray no \\\"excuse me or are you done with that?\\\"  I realize he's trying to do his job quickly but a little table manners goes along way. That being said still like to grub here and glad that there's finally a Cane's close to me.\",\"date\":\"2017-01-14 21:56:57\"}\r\n",
      "{\"review_id\":\"L2O_INwlrRuoX05KSjc4eg\",\"user_id\":\"5vD2kmE25YBrbayKhykNxQ\",\"business_id\":\"nlxHRv1zXGT0c0K51q3jDg\",\"stars\":5.0,\"useful\":2,\"funny\":0,\"cool\":0,\"text\":\"This is definitely my favorite fast food sub shop. Ingredients are everything, and everything I see and taste here tells me that they're using top-grade fresh ingredients. The brisket sandwich is probably my favorite... and it's the one my wife ALWAYS gets. Unlike her, I often bounce around the menu to try different things. Definitely a step up from Subway, Quiznos, Jimmy Johns, etc in my opinion. As with all of my reviews, I grade each place relative to what I perceive to be its peers - so five star compared to them.\",\"date\":\"2013-05-07 07:25:25\"}\r\n",
      "{\"review_id\":\"ZayJ1zWyWgY9S_TRLT_y9Q\",\"user_id\":\"aq_ZxGHiri48TUXJlpRkCQ\",\"business_id\":\"Pthe4qk5xh4n-ef-9bvMSg\",\"stars\":5.0,\"useful\":1,\"funny\":0,\"cool\":0,\"text\":\"Really good place with simple decor, amazing food and great hospitality.\\nVery impressed with the lunch portion. Although service took little extra time but I have no complaints since they are quite new in business. The green curry chicken was good and to the right spice balance I asked for. I will definitely recommend this place to others.\",\"date\":\"2015-11-05 23:11:05\"}\r\n",
      "{\"review_id\":\"lpFIJYpsvDxyph-kPzZ6aA\",\"user_id\":\"dsd-KNYKMpx6ma_sRWCSkQ\",\"business_id\":\"FNCJpSn0tL9iqoY3JC73qw\",\"stars\":5.0,\"useful\":0,\"funny\":0,\"cool\":0,\"text\":\"Awesome office and staff, very professional and friendly. I saw Adam Garling PA-C and his assistant, they were very friendly, professional, and helpful. I highly recommend Centennial Dermatology! I will definitely return for more visits.\",\"date\":\"2017-07-18 18:31:54\"}\r\n",
      "{\"review_id\":\"JA-xnyHytKiOIHl_ztnK9Q\",\"user_id\":\"P6apihD4ASf1vpPxHODxAQ\",\"business_id\":\"e_BiI4ej1CW1F0EyVLr-FQ\",\"stars\":5.0,\"useful\":0,\"funny\":0,\"cool\":0,\"text\":\"Most delicious authentic Italian I've had in the US. You wouldn't leave this place unhappy. The setting is cozy and a perfect spot for VD, anniversaries, or a special date. They'll make you feel like you're in Italy.\",\"date\":\"2015-02-16 06:48:47\"}\r\n",
      "{\"review_id\":\"z4BCgTkfNtCu4XY5Lp97ww\",\"user_id\":\"jOERvhmK6_lo_XGUBPws_w\",\"business_id\":\"Ws8V970-mQt2X9CwCuT5zw\",\"stars\":4.0,\"useful\":3,\"funny\":0,\"cool\":1,\"text\":\"I have been here twice. Very nice and laid back. I tried the weekend Southern menu and it was delicious! Collard greens, mac&cheese, ribs, BBQ chicken sandwich. The scone with clotted cream was divine!!!! The iced teas are very refreshing and I swear I drank a whole container myself both visits. \\nThe second time I had soup, salad and a sandwich. The salad had this amazing (raspberry? strawberry?, I forgot) vinaigrette. The sandwich was good, but I was kind of disappointed with the soup. It was potato and tasted too \\\"milky\\\". \\nThey change the menu often and now have a tea inspired one. Can't wait to go back and try it.\\nThe owners are very nice and I hope they continue to do well.\",\"date\":\"2009-10-13 04:16:41\"}\r\n"
     ]
    }
   ],
   "source": [
    "!head {path}/yelp_academic_dataset_review.json"
   ]
  },
  {
   "cell_type": "code",
   "execution_count": 6,
   "metadata": {},
   "outputs": [],
   "source": [
    "review_file = path/'yelp_academic_dataset_review.json'"
   ]
  },
  {
   "cell_type": "code",
   "execution_count": 7,
   "metadata": {},
   "outputs": [
    {
     "name": "stdout",
     "output_type": "stream",
     "text": [
      "Processed 100000\n",
      "Processed 200000\n",
      "Processed 300000\n",
      "Processed 400000\n",
      "Processed 500000\n",
      "Processed 600000\n",
      "Processed 700000\n",
      "Processed 800000\n",
      "Processed 900000\n",
      "Processed 1000000\n",
      "Processed 1100000\n",
      "Processed 1200000\n",
      "Processed 1300000\n",
      "Processed 1400000\n",
      "Processed 1500000\n",
      "Processed 1600000\n",
      "Processed 1700000\n",
      "Processed 1800000\n",
      "Processed 1900000\n",
      "CPU times: user 47.7 s, sys: 1.55 s, total: 49.3 s\n",
      "Wall time: 49.3 s\n"
     ]
    }
   ],
   "source": [
    "%%time\n",
    "\n",
    "sample_size = 2_000_000\n",
    "simplified_reviews = path/f'yelp_reviews_simple_{sample_size}.json'\n",
    "\n",
    "def extract_simplified(source, target, lines=1000):\n",
    "    with open(target, 'w') as sr:\n",
    "        cnt = 0;\n",
    "        with open(source) as file:\n",
    "            line = file.readline()\n",
    "            while line:\n",
    "                cnt += 1\n",
    "                if cnt == lines:\n",
    "                    break\n",
    "                if cnt % 100_000 == 0:\n",
    "                    print(f'Processed {cnt}')\n",
    "                try:\n",
    "                    line = file.readline().strip()\n",
    "                    review_dict = json.loads(line)\n",
    "                    simplified = {'text':  review_dict['text'], 'stars': review_dict['stars']}\n",
    "                    simplified_text = json.dumps(simplified)\n",
    "                    sr.write(f'{simplified_text}\\n')\n",
    "                except:\n",
    "                    print(f'Could not parse {line}')\n",
    "                    \n",
    "extract_simplified(review_file, simplified_reviews, lines=sample_size)"
   ]
  },
  {
   "cell_type": "code",
   "execution_count": 8,
   "metadata": {},
   "outputs": [
    {
     "name": "stdout",
     "output_type": "stream",
     "text": [
      "1999999 /data/yelp/yelp_reviews_simple_2000000.json\r\n"
     ]
    }
   ],
   "source": [
    "!wc -l {simplified_reviews}"
   ]
  },
  {
   "cell_type": "code",
   "execution_count": 9,
   "metadata": {},
   "outputs": [
    {
     "name": "stdout",
     "output_type": "stream",
     "text": [
      "{\"text\": \"I am actually horrified this place is still in business. My 3 year old son needed a haircut this past summer and the lure of the $7 kids cut signs got me in the door. We had to wait a few minutes as both stylists were working on people. The decor in this place is total garbage. It is so tacky. The sofa they had at the time was a pleather sofa with giant holes in it. And my son noticed ants crawling all over the floor and the furniture. It was disgusting and I should have walked out then. Actually, I should have turned around and walked out upon entering but I didn't. So the older black male stylist finishes the haircut he was doing and it's our turn. I tell him I want a #2 clipper around the back and sides and then hand cut the top into a standard boys cut. Really freaking simple, right? WRONG! Rather than use the clippers and go up to actually cut the hair, he went down. Using it moving downward doesn't cut hair, it just rubs against it. How does this man who has an alleged cosmetology license not know how to use a set of freaking clippers??? I realized almost immediately that he had no idea what he was doing. No idea at all. After about 10 minutes of watching this guy stumble through it, I said \\\"you know what? That's fine.\\\", paid and left. All I wanted to do was get out of that scummy joint and take my son to a real haircut place.\\n\\nBottom line: DO NOT GO HERE. RUN THE OTHER WAY!!!!!\", \"stars\": 1.0}\r\n",
      "{\"text\": \"I love Deagan's. I do. I really do. The atmosphere is cozy and festive. The shrimp tacos and house fries are my standbys. The fries are sometimes good and sometimes great, and the spicy dipping sauce they come with is to die for. The beer list is amazing and the cocktails are great. The prices are mid-level, so it's not a cheap dive you can go to every week, but rather a treat when you do. Try it out. You won't be disappointed!\", \"stars\": 5.0}\r\n",
      "{\"text\": \"Dismal, lukewarm, defrosted-tasting \\\"TexMex\\\" glop;\\n\\nMumbly, unengaged waiter;\\n\\nClueless manager, who seeing us with barely nibbled entrees\\non plates shoved forward for pickup, thanked us\\nperfunctorily for our patronage;\\n\\nWe're from the Texas Hill Country;\\ndown there, we jail critters \\nwho serve up grub this bad,\\nfor their own protection.\\n\\nNever, never, NEVER again\\n(Back to Yard House for real food)\", \"stars\": 1.0}\r\n",
      "{\"text\": \"Oh happy day, finally have a Canes near my casa. Yes just as others are griping about the Drive thru is packed just like most of the other canes in the area but I like to go sit down to enjoy my chicken. The cashiers are pleasant and as far as food wise i have yet to receive any funky chicken. The clean up crew zips around the dining area constantly so it's usually well kept. My only gripe is the one fella with Red hair he makes the rounds while cleaning but no smile or personality a few nights ago he tossed the napkins i just put on the table to help go with my meal. After I was done he just reached for my tray no \\\"excuse me or are you done with that?\\\"  I realize he's trying to do his job quickly but a little table manners goes along way. That being said still like to grub here and glad that there's finally a Cane's close to me.\", \"stars\": 4.0}\r\n",
      "{\"text\": \"This is definitely my favorite fast food sub shop. Ingredients are everything, and everything I see and taste here tells me that they're using top-grade fresh ingredients. The brisket sandwich is probably my favorite... and it's the one my wife ALWAYS gets. Unlike her, I often bounce around the menu to try different things. Definitely a step up from Subway, Quiznos, Jimmy Johns, etc in my opinion. As with all of my reviews, I grade each place relative to what I perceive to be its peers - so five star compared to them.\", \"stars\": 5.0}\r\n",
      "{\"text\": \"Really good place with simple decor, amazing food and great hospitality.\\nVery impressed with the lunch portion. Although service took little extra time but I have no complaints since they are quite new in business. The green curry chicken was good and to the right spice balance I asked for. I will definitely recommend this place to others.\", \"stars\": 5.0}\r\n",
      "{\"text\": \"Awesome office and staff, very professional and friendly. I saw Adam Garling PA-C and his assistant, they were very friendly, professional, and helpful. I highly recommend Centennial Dermatology! I will definitely return for more visits.\", \"stars\": 5.0}\r\n",
      "{\"text\": \"Most delicious authentic Italian I've had in the US. You wouldn't leave this place unhappy. The setting is cozy and a perfect spot for VD, anniversaries, or a special date. They'll make you feel like you're in Italy.\", \"stars\": 5.0}\r\n",
      "{\"text\": \"I have been here twice. Very nice and laid back. I tried the weekend Southern menu and it was delicious! Collard greens, mac&cheese, ribs, BBQ chicken sandwich. The scone with clotted cream was divine!!!! The iced teas are very refreshing and I swear I drank a whole container myself both visits. \\nThe second time I had soup, salad and a sandwich. The salad had this amazing (raspberry? strawberry?, I forgot) vinaigrette. The sandwich was good, but I was kind of disappointed with the soup. It was potato and tasted too \\\"milky\\\". \\nThey change the menu often and now have a tea inspired one. Can't wait to go back and try it.\\nThe owners are very nice and I hope they continue to do well.\", \"stars\": 4.0}\r\n",
      "{\"text\": \"Maria is VERY good at what she does with great prices, too! I've always had a hard time finding someone to fix my jeans just right and she did it! I'm short with a small waist and a bit of a butt :) So that means every pair of jean I get have to be altered.  And Maria does a wonderful job with reasonable prices.  She's done more than10 pairs of jeans and a few shirts and only one needed fixing.  I even lost weight and had to get a pair redone, it was a bit of a challenge but she did a beautiful job.\", \"stars\": 5.0}\r\n"
     ]
    }
   ],
   "source": [
    "!head {simplified_reviews}"
   ]
  },
  {
   "cell_type": "code",
   "execution_count": 10,
   "metadata": {},
   "outputs": [],
   "source": [
    "simplified_reviews_pd = pd.read_json(simplified_reviews, lines=True)"
   ]
  },
  {
   "cell_type": "code",
   "execution_count": 11,
   "metadata": {},
   "outputs": [
    {
     "name": "stdout",
     "output_type": "stream",
     "text": [
      "<class 'pandas.core.frame.DataFrame'>\n",
      "RangeIndex: 1999999 entries, 0 to 1999998\n",
      "Data columns (total 2 columns):\n",
      " #   Column  Dtype \n",
      "---  ------  ----- \n",
      " 0   text    object\n",
      " 1   stars   int64 \n",
      "dtypes: int64(1), object(1)\n",
      "memory usage: 30.5+ MB\n"
     ]
    }
   ],
   "source": [
    "simplified_reviews_pd.info()"
   ]
  },
  {
   "cell_type": "code",
   "execution_count": 12,
   "metadata": {},
   "outputs": [
    {
     "data": {
      "text/html": [
       "<div>\n",
       "<style scoped>\n",
       "    .dataframe tbody tr th:only-of-type {\n",
       "        vertical-align: middle;\n",
       "    }\n",
       "\n",
       "    .dataframe tbody tr th {\n",
       "        vertical-align: top;\n",
       "    }\n",
       "\n",
       "    .dataframe thead th {\n",
       "        text-align: right;\n",
       "    }\n",
       "</style>\n",
       "<table border=\"1\" class=\"dataframe\">\n",
       "  <thead>\n",
       "    <tr style=\"text-align: right;\">\n",
       "      <th></th>\n",
       "      <th>text</th>\n",
       "      <th>stars</th>\n",
       "    </tr>\n",
       "  </thead>\n",
       "  <tbody>\n",
       "    <tr>\n",
       "      <th>0</th>\n",
       "      <td>I am actually horrified this place is still in...</td>\n",
       "      <td>1</td>\n",
       "    </tr>\n",
       "    <tr>\n",
       "      <th>1</th>\n",
       "      <td>I love Deagan's. I do. I really do. The atmosp...</td>\n",
       "      <td>5</td>\n",
       "    </tr>\n",
       "    <tr>\n",
       "      <th>2</th>\n",
       "      <td>Dismal, lukewarm, defrosted-tasting \"TexMex\" g...</td>\n",
       "      <td>1</td>\n",
       "    </tr>\n",
       "    <tr>\n",
       "      <th>3</th>\n",
       "      <td>Oh happy day, finally have a Canes near my cas...</td>\n",
       "      <td>4</td>\n",
       "    </tr>\n",
       "    <tr>\n",
       "      <th>4</th>\n",
       "      <td>This is definitely my favorite fast food sub s...</td>\n",
       "      <td>5</td>\n",
       "    </tr>\n",
       "    <tr>\n",
       "      <th>...</th>\n",
       "      <td>...</td>\n",
       "      <td>...</td>\n",
       "    </tr>\n",
       "    <tr>\n",
       "      <th>1999994</th>\n",
       "      <td>This place is excellent. I never knew about th...</td>\n",
       "      <td>5</td>\n",
       "    </tr>\n",
       "    <tr>\n",
       "      <th>1999995</th>\n",
       "      <td>An all-time favorite for me and my wife.  We g...</td>\n",
       "      <td>5</td>\n",
       "    </tr>\n",
       "    <tr>\n",
       "      <th>1999996</th>\n",
       "      <td>I have been coming here for over a year now fo...</td>\n",
       "      <td>5</td>\n",
       "    </tr>\n",
       "    <tr>\n",
       "      <th>1999997</th>\n",
       "      <td>Worst customer service on the planet! Came in ...</td>\n",
       "      <td>1</td>\n",
       "    </tr>\n",
       "    <tr>\n",
       "      <th>1999998</th>\n",
       "      <td>Thanks Dr. Nelson for helping me too feel bett...</td>\n",
       "      <td>5</td>\n",
       "    </tr>\n",
       "  </tbody>\n",
       "</table>\n",
       "<p>1999999 rows × 2 columns</p>\n",
       "</div>"
      ],
      "text/plain": [
       "                                                      text  stars\n",
       "0        I am actually horrified this place is still in...      1\n",
       "1        I love Deagan's. I do. I really do. The atmosp...      5\n",
       "2        Dismal, lukewarm, defrosted-tasting \"TexMex\" g...      1\n",
       "3        Oh happy day, finally have a Canes near my cas...      4\n",
       "4        This is definitely my favorite fast food sub s...      5\n",
       "...                                                    ...    ...\n",
       "1999994  This place is excellent. I never knew about th...      5\n",
       "1999995  An all-time favorite for me and my wife.  We g...      5\n",
       "1999996  I have been coming here for over a year now fo...      5\n",
       "1999997  Worst customer service on the planet! Came in ...      1\n",
       "1999998  Thanks Dr. Nelson for helping me too feel bett...      5\n",
       "\n",
       "[1999999 rows x 2 columns]"
      ]
     },
     "execution_count": 12,
     "metadata": {},
     "output_type": "execute_result"
    }
   ],
   "source": [
    "simplified_reviews_pd"
   ]
  },
  {
   "cell_type": "code",
   "execution_count": 13,
   "metadata": {},
   "outputs": [
    {
     "data": {
      "text/plain": [
       "<matplotlib.axes._subplots.AxesSubplot at 0x7fd28ba83110>"
      ]
     },
     "execution_count": 13,
     "metadata": {},
     "output_type": "execute_result"
    },
    {
     "data": {
      "image/png": "[encoded data removed]",
      "text/plain": [
       "<Figure size 432x288 with 1 Axes>"
      ]
     },
     "metadata": {
      "needs_background": "light"
     },
     "output_type": "display_data"
    }
   ],
   "source": [
    "sns.countplot(simplified_reviews_pd['stars'])"
   ]
  },
  {
   "cell_type": "markdown",
   "metadata": {},
   "source": [
    "### Create a balanced dataset\n",
    "In the following cells we try to create a balanced dataset with the same amount of records in each category."
   ]
  },
  {
   "cell_type": "code",
   "execution_count": 19,
   "metadata": {},
   "outputs": [],
   "source": [
    "counter_star = Counter(simplified_reviews_pd['stars'])"
   ]
  },
  {
   "cell_type": "code",
   "execution_count": 20,
   "metadata": {},
   "outputs": [
    {
     "data": {
      "text/plain": [
       "(2, 158557)"
      ]
     },
     "execution_count": 20,
     "metadata": {},
     "output_type": "execute_result"
    }
   ],
   "source": [
    "min_class = -1\n",
    "min_amount = 1000000000\n",
    "for cs in counter_star:\n",
    "    if min_amount > counter_star[cs]:\n",
    "        min_amount = counter_star[cs]\n",
    "        min_class = cs\n",
    "min_class, min_amount"
   ]
  },
  {
   "cell_type": "code",
   "execution_count": 21,
   "metadata": {},
   "outputs": [
    {
     "data": {
      "text/plain": [
       "{1: 153990, 5: 735443, 4: 264500, 3: 53281, 2: 0}"
      ]
     },
     "execution_count": 21,
     "metadata": {},
     "output_type": "execute_result"
    }
   ],
   "source": [
    "remove_amounts = {c: abs(min_amount - counter_star[c]) for c in counter_star}\n",
    "remove_amounts"
   ]
  },
  {
   "cell_type": "code",
   "execution_count": 22,
   "metadata": {},
   "outputs": [
    {
     "data": {
      "text/plain": [
       "{1: 153989, 5: 735443, 4: 264500, 3: 53281, 2: 0}"
      ]
     },
     "execution_count": 22,
     "metadata": {},
     "output_type": "execute_result"
    }
   ],
   "source": [
    "remove_amounts[1] -= 1\n",
    "remove_amounts"
   ]
  },
  {
   "cell_type": "markdown",
   "metadata": {},
   "source": [
    "Gathering all indices that are going to be deleted."
   ]
  },
  {
   "cell_type": "code",
   "execution_count": 23,
   "metadata": {},
   "outputs": [
    {
     "name": "stdout",
     "output_type": "stream",
     "text": [
      "CPU times: user 4min 24s, sys: 577 ms, total: 4min 25s\n",
      "Wall time: 4min 25s\n"
     ]
    },
    {
     "data": {
      "text/plain": [
       "1207213"
      ]
     },
     "execution_count": 23,
     "metadata": {},
     "output_type": "execute_result"
    }
   ],
   "source": [
    "%%time\n",
    "drop_indices = []\n",
    "for index, row in simplified_reviews_pd.iterrows():\n",
    "    if remove_amounts[row['stars']] > 0:\n",
    "        remove_amounts[row['stars']] -= 1\n",
    "        drop_indices.append(index)\n",
    "len(drop_indices)"
   ]
  },
  {
   "cell_type": "code",
   "execution_count": 24,
   "metadata": {},
   "outputs": [],
   "source": [
    "balanced_simplified_reviews = simplified_reviews_pd.drop(drop_indices)"
   ]
  },
  {
   "cell_type": "code",
   "execution_count": 25,
   "metadata": {},
   "outputs": [
    {
     "data": {
      "text/plain": [
       "<matplotlib.axes._subplots.AxesSubplot at 0x7fd28647f090>"
      ]
     },
     "execution_count": 25,
     "metadata": {},
     "output_type": "execute_result"
    },
    {
     "data": {
      "image/png": "[encoded data removed]",
      "text/plain": [
       "<Figure size 432x288 with 1 Axes>"
      ]
     },
     "metadata": {
      "needs_background": "light"
     },
     "output_type": "display_data"
    }
   ],
   "source": [
    "sns.countplot(balanced_simplified_reviews['stars'])"
   ]
  },
  {
   "cell_type": "code",
   "execution_count": 26,
   "metadata": {},
   "outputs": [
    {
     "name": "stdout",
     "output_type": "stream",
     "text": [
      "<class 'pandas.core.frame.DataFrame'>\n",
      "Int64Index: 792786 entries, 31 to 1999998\n",
      "Data columns (total 2 columns):\n",
      " #   Column  Non-Null Count   Dtype \n",
      "---  ------  --------------   ----- \n",
      " 0   text    792786 non-null  object\n",
      " 1   stars   792786 non-null  int64 \n",
      "dtypes: int64(1), object(1)\n",
      "memory usage: 38.1+ MB\n"
     ]
    }
   ],
   "source": [
    "balanced_simplified_reviews.info()"
   ]
  },
  {
   "cell_type": "code",
   "execution_count": 27,
   "metadata": {},
   "outputs": [],
   "source": [
    "balanced_simplified_reviews.to_pickle(path/'balanced_simplified_reviews.pkl')"
   ]
  },
  {
   "cell_type": "code",
   "execution_count": 28,
   "metadata": {},
   "outputs": [
    {
     "name": "stdout",
     "output_type": "stream",
     "text": [
      "Dataset_User_Agreement.pdf\t     yelp_academic_dataset_review.json\r\n",
      "balanced_simplified_reviews.pkl      yelp_academic_dataset_tip.json\r\n",
      "yelp_academic_dataset_business.json  yelp_academic_dataset_user.json\r\n",
      "yelp_academic_dataset_checkin.json   yelp_reviews_simple_2000000.json\r\n"
     ]
    }
   ],
   "source": [
    "!ls {path}"
   ]
  }
 ],
 "metadata": {
  "kernelspec": {
   "display_name": "Python 3",
   "language": "python",
   "name": "python3"
  },
  "language_info": {
   "codemirror_mode": {
    "name": "ipython",
    "version": 3
   },
   "file_extension": ".py",
   "mimetype": "text/x-python",
   "name": "python",
   "nbconvert_exporter": "python",
   "pygments_lexer": "ipython3",
   "version": "3.7.7"
  }
 },
 "nbformat": 4,
 "nbformat_minor": 4
}
