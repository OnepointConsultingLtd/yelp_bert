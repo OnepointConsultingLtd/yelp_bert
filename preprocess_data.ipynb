{
 "cells": [
  {
   "cell_type": "code",
   "execution_count": 1,
   "metadata": {},
   "outputs": [],
   "source": [
    "%load_ext autoreload\n",
    "%autoreload 2\n",
    "\n",
    "%matplotlib inline"
   ]
  },
  {
   "cell_type": "code",
   "execution_count": 2,
   "metadata": {},
   "outputs": [],
   "source": [
    "import pandas as pd\n",
    "import numpy as np\n",
    "from pathlib import Path\n",
    "import json\n",
    "import seaborn as sns\n",
    "from collections import Counter"
   ]
  },
  {
   "cell_type": "code",
   "execution_count": 3,
   "metadata": {},
   "outputs": [],
   "source": [
    "path = Path('/data/yelp/')\n",
    "assert path.exists()"
   ]
  },
  {
   "cell_type": "code",
   "execution_count": 4,
   "metadata": {},
   "outputs": [
    {
     "name": "stdout",
     "output_type": "stream",
     "text": [
      "balanced_simplified_reviews.pkl      yelp_academic_dataset_tip.json\n",
      "best_model\t\t\t     yelp_academic_dataset_user.json\n",
      "Dataset_User_Agreement.pdf\t     yelp_reviews_simple_1000000.json\n",
      "simple_output\t\t\t     yelp_reviews_simple_2000000.json\n",
      "yelp_academic_dataset_business.json  yelp_reviews_simple_200000.json\n",
      "yelp_academic_dataset_checkin.json   yelp_reviews_simple_400000.json\n",
      "yelp_academic_dataset_review.json    yelp_reviews_simple.json\n"
     ]
    }
   ],
   "source": [
    "!ls {path}"
   ]
  },
  {
   "cell_type": "code",
   "execution_count": 5,
   "metadata": {},
   "outputs": [
    {
     "name": "stdout",
     "output_type": "stream",
     "text": [
      "8021122 /data/yelp/yelp_academic_dataset_review.json\n"
     ]
    }
   ],
   "source": [
    "!wc -l {path}/yelp_academic_dataset_review.json"
   ]
  },
  {
   "cell_type": "code",
   "execution_count": 7,
   "metadata": {},
   "outputs": [],
   "source": [
    "review_file = path/'yelp_academic_dataset_review.json'"
   ]
  },
  {
   "cell_type": "code",
   "execution_count": 8,
   "metadata": {},
   "outputs": [
    {
     "name": "stdout",
     "output_type": "stream",
     "text": [
      "Processed 100000\n",
      "Processed 200000\n",
      "Processed 300000\n",
      "Processed 400000\n",
      "Processed 500000\n",
      "Processed 600000\n",
      "Processed 700000\n",
      "Processed 800000\n",
      "Processed 900000\n",
      "Processed 1000000\n",
      "Processed 1100000\n",
      "Processed 1200000\n",
      "Processed 1300000\n",
      "Processed 1400000\n",
      "Processed 1500000\n",
      "Processed 1600000\n",
      "Processed 1700000\n",
      "Processed 1800000\n",
      "Processed 1900000\n",
      "Processed 2000000\n",
      "Processed 2100000\n",
      "Processed 2200000\n",
      "Processed 2300000\n",
      "Processed 2400000\n",
      "Processed 2500000\n",
      "Processed 2600000\n",
      "Processed 2700000\n",
      "Processed 2800000\n",
      "Processed 2900000\n",
      "Processed 3000000\n",
      "Processed 3100000\n",
      "Processed 3200000\n",
      "Processed 3300000\n",
      "Processed 3400000\n",
      "Processed 3500000\n",
      "Processed 3600000\n",
      "Processed 3700000\n",
      "Processed 3800000\n",
      "Processed 3900000\n",
      "Processed 4000000\n",
      "Processed 4100000\n",
      "Processed 4200000\n",
      "Processed 4300000\n",
      "Processed 4400000\n",
      "Processed 4500000\n",
      "Processed 4600000\n",
      "Processed 4700000\n",
      "Processed 4800000\n",
      "Processed 4900000\n",
      "Processed 5000000\n",
      "Processed 5100000\n",
      "Processed 5200000\n",
      "Processed 5300000\n",
      "Processed 5400000\n",
      "Processed 5500000\n",
      "Processed 5600000\n",
      "Processed 5700000\n",
      "Processed 5800000\n",
      "Processed 5900000\n",
      "Processed 6000000\n",
      "Processed 6100000\n",
      "Processed 6200000\n",
      "Processed 6300000\n",
      "Processed 6400000\n",
      "Processed 6500000\n",
      "Processed 6600000\n",
      "Processed 6700000\n",
      "Processed 6800000\n",
      "Processed 6900000\n",
      "Processed 7000000\n",
      "Processed 7100000\n",
      "Processed 7200000\n",
      "Processed 7300000\n",
      "Processed 7400000\n",
      "Processed 7500000\n",
      "Processed 7600000\n",
      "Processed 7700000\n",
      "Processed 7800000\n",
      "Processed 7900000\n",
      "Processed 8000000\n",
      "CPU times: user 1min 18s, sys: 4.25 s, total: 1min 23s\n",
      "Wall time: 1min 23s\n"
     ]
    }
   ],
   "source": [
    "%%time\n",
    "\n",
    "sample_size = 8_021_122\n",
    "simplified_reviews = path/f'yelp_reviews_simple_{sample_size}.json'\n",
    "\n",
    "def extract_simplified(source, target, lines=1000):\n",
    "    with open(target, 'w') as sr:\n",
    "        cnt = 0;\n",
    "        with open(source) as file:\n",
    "            line = file.readline()\n",
    "            while line:\n",
    "                cnt += 1\n",
    "                if cnt == lines:\n",
    "                    break\n",
    "                if cnt % 100_000 == 0:\n",
    "                    print(f'Processed {cnt}')\n",
    "                try:\n",
    "                    line = file.readline().strip()\n",
    "                    review_dict = json.loads(line)\n",
    "                    simplified = {'text':  review_dict['text'], 'stars': review_dict['stars']}\n",
    "                    simplified_text = json.dumps(simplified)\n",
    "                    sr.write(f'{simplified_text}\\n')\n",
    "                except:\n",
    "                    print(f'Could not parse {line}')\n",
    "                    \n",
    "extract_simplified(review_file, simplified_reviews, lines=sample_size)"
   ]
  },
  {
   "cell_type": "code",
   "execution_count": 9,
   "metadata": {},
   "outputs": [
    {
     "name": "stdout",
     "output_type": "stream",
     "text": [
      "8021121 /data/yelp/yelp_reviews_simple_8021122.json\n"
     ]
    }
   ],
   "source": [
    "!wc -l {simplified_reviews}"
   ]
  },
  {
   "cell_type": "code",
   "execution_count": 10,
   "metadata": {},
   "outputs": [
    {
     "name": "stdout",
     "output_type": "stream",
     "text": [
      "{\"text\": \"I am actually horrified this place is still in business. My 3 year old son needed a haircut this past summer and the lure of the $7 kids cut signs got me in the door. We had to wait a few minutes as both stylists were working on people. The decor in this place is total garbage. It is so tacky. The sofa they had at the time was a pleather sofa with giant holes in it. And my son noticed ants crawling all over the floor and the furniture. It was disgusting and I should have walked out then. Actually, I should have turned around and walked out upon entering but I didn't. So the older black male stylist finishes the haircut he was doing and it's our turn. I tell him I want a #2 clipper around the back and sides and then hand cut the top into a standard boys cut. Really freaking simple, right? WRONG! Rather than use the clippers and go up to actually cut the hair, he went down. Using it moving downward doesn't cut hair, it just rubs against it. How does this man who has an alleged cosmetology license not know how to use a set of freaking clippers??? I realized almost immediately that he had no idea what he was doing. No idea at all. After about 10 minutes of watching this guy stumble through it, I said \\\"you know what? That's fine.\\\", paid and left. All I wanted to do was get out of that scummy joint and take my son to a real haircut place.\\n\\nBottom line: DO NOT GO HERE. RUN THE OTHER WAY!!!!!\", \"stars\": 1.0}\n",
      "{\"text\": \"I love Deagan's. I do. I really do. The atmosphere is cozy and festive. The shrimp tacos and house fries are my standbys. The fries are sometimes good and sometimes great, and the spicy dipping sauce they come with is to die for. The beer list is amazing and the cocktails are great. The prices are mid-level, so it's not a cheap dive you can go to every week, but rather a treat when you do. Try it out. You won't be disappointed!\", \"stars\": 5.0}\n",
      "{\"text\": \"Dismal, lukewarm, defrosted-tasting \\\"TexMex\\\" glop;\\n\\nMumbly, unengaged waiter;\\n\\nClueless manager, who seeing us with barely nibbled entrees\\non plates shoved forward for pickup, thanked us\\nperfunctorily for our patronage;\\n\\nWe're from the Texas Hill Country;\\ndown there, we jail critters \\nwho serve up grub this bad,\\nfor their own protection.\\n\\nNever, never, NEVER again\\n(Back to Yard House for real food)\", \"stars\": 1.0}\n",
      "{\"text\": \"Oh happy day, finally have a Canes near my casa. Yes just as others are griping about the Drive thru is packed just like most of the other canes in the area but I like to go sit down to enjoy my chicken. The cashiers are pleasant and as far as food wise i have yet to receive any funky chicken. The clean up crew zips around the dining area constantly so it's usually well kept. My only gripe is the one fella with Red hair he makes the rounds while cleaning but no smile or personality a few nights ago he tossed the napkins i just put on the table to help go with my meal. After I was done he just reached for my tray no \\\"excuse me or are you done with that?\\\"  I realize he's trying to do his job quickly but a little table manners goes along way. That being said still like to grub here and glad that there's finally a Cane's close to me.\", \"stars\": 4.0}\n",
      "{\"text\": \"This is definitely my favorite fast food sub shop. Ingredients are everything, and everything I see and taste here tells me that they're using top-grade fresh ingredients. The brisket sandwich is probably my favorite... and it's the one my wife ALWAYS gets. Unlike her, I often bounce around the menu to try different things. Definitely a step up from Subway, Quiznos, Jimmy Johns, etc in my opinion. As with all of my reviews, I grade each place relative to what I perceive to be its peers - so five star compared to them.\", \"stars\": 5.0}\n",
      "{\"text\": \"Really good place with simple decor, amazing food and great hospitality.\\nVery impressed with the lunch portion. Although service took little extra time but I have no complaints since they are quite new in business. The green curry chicken was good and to the right spice balance I asked for. I will definitely recommend this place to others.\", \"stars\": 5.0}\n",
      "{\"text\": \"Awesome office and staff, very professional and friendly. I saw Adam Garling PA-C and his assistant, they were very friendly, professional, and helpful. I highly recommend Centennial Dermatology! I will definitely return for more visits.\", \"stars\": 5.0}\n",
      "{\"text\": \"Most delicious authentic Italian I've had in the US. You wouldn't leave this place unhappy. The setting is cozy and a perfect spot for VD, anniversaries, or a special date. They'll make you feel like you're in Italy.\", \"stars\": 5.0}\n",
      "{\"text\": \"I have been here twice. Very nice and laid back. I tried the weekend Southern menu and it was delicious! Collard greens, mac&cheese, ribs, BBQ chicken sandwich. The scone with clotted cream was divine!!!! The iced teas are very refreshing and I swear I drank a whole container myself both visits. \\nThe second time I had soup, salad and a sandwich. The salad had this amazing (raspberry? strawberry?, I forgot) vinaigrette. The sandwich was good, but I was kind of disappointed with the soup. It was potato and tasted too \\\"milky\\\". \\nThey change the menu often and now have a tea inspired one. Can't wait to go back and try it.\\nThe owners are very nice and I hope they continue to do well.\", \"stars\": 4.0}\n",
      "{\"text\": \"Maria is VERY good at what she does with great prices, too! I've always had a hard time finding someone to fix my jeans just right and she did it! I'm short with a small waist and a bit of a butt :) So that means every pair of jean I get have to be altered.  And Maria does a wonderful job with reasonable prices.  She's done more than10 pairs of jeans and a few shirts and only one needed fixing.  I even lost weight and had to get a pair redone, it was a bit of a challenge but she did a beautiful job.\", \"stars\": 5.0}\n"
     ]
    }
   ],
   "source": [
    "!head {simplified_reviews}"
   ]
  },
  {
   "cell_type": "code",
   "execution_count": 11,
   "metadata": {},
   "outputs": [],
   "source": [
    "simplified_reviews_pd = pd.read_json(simplified_reviews, lines=True)"
   ]
  },
  {
   "cell_type": "code",
   "execution_count": 12,
   "metadata": {},
   "outputs": [
    {
     "name": "stdout",
     "output_type": "stream",
     "text": [
      "<class 'pandas.core.frame.DataFrame'>\n",
      "RangeIndex: 8021121 entries, 0 to 8021120\n",
      "Data columns (total 2 columns):\n",
      " #   Column  Dtype \n",
      "---  ------  ----- \n",
      " 0   text    object\n",
      " 1   stars   int64 \n",
      "dtypes: int64(1), object(1)\n",
      "memory usage: 122.4+ MB\n"
     ]
    }
   ],
   "source": [
    "simplified_reviews_pd.info()"
   ]
  },
  {
   "cell_type": "code",
   "execution_count": 13,
   "metadata": {},
   "outputs": [
    {
     "data": {
      "text/html": [
       "<div>\n",
       "<style scoped>\n",
       "    .dataframe tbody tr th:only-of-type {\n",
       "        vertical-align: middle;\n",
       "    }\n",
       "\n",
       "    .dataframe tbody tr th {\n",
       "        vertical-align: top;\n",
       "    }\n",
       "\n",
       "    .dataframe thead th {\n",
       "        text-align: right;\n",
       "    }\n",
       "</style>\n",
       "<table border=\"1\" class=\"dataframe\">\n",
       "  <thead>\n",
       "    <tr style=\"text-align: right;\">\n",
       "      <th></th>\n",
       "      <th>text</th>\n",
       "      <th>stars</th>\n",
       "    </tr>\n",
       "  </thead>\n",
       "  <tbody>\n",
       "    <tr>\n",
       "      <th>0</th>\n",
       "      <td>I am actually horrified this place is still in...</td>\n",
       "      <td>1</td>\n",
       "    </tr>\n",
       "    <tr>\n",
       "      <th>1</th>\n",
       "      <td>I love Deagan's. I do. I really do. The atmosp...</td>\n",
       "      <td>5</td>\n",
       "    </tr>\n",
       "    <tr>\n",
       "      <th>2</th>\n",
       "      <td>Dismal, lukewarm, defrosted-tasting \"TexMex\" g...</td>\n",
       "      <td>1</td>\n",
       "    </tr>\n",
       "    <tr>\n",
       "      <th>3</th>\n",
       "      <td>Oh happy day, finally have a Canes near my cas...</td>\n",
       "      <td>4</td>\n",
       "    </tr>\n",
       "    <tr>\n",
       "      <th>4</th>\n",
       "      <td>This is definitely my favorite fast food sub s...</td>\n",
       "      <td>5</td>\n",
       "    </tr>\n",
       "    <tr>\n",
       "      <th>...</th>\n",
       "      <td>...</td>\n",
       "      <td>...</td>\n",
       "    </tr>\n",
       "    <tr>\n",
       "      <th>8021116</th>\n",
       "      <td>Fricken unbelievable, I ordered 2 space heater...</td>\n",
       "      <td>1</td>\n",
       "    </tr>\n",
       "    <tr>\n",
       "      <th>8021117</th>\n",
       "      <td>Solid American food with a southern comfort fl...</td>\n",
       "      <td>3</td>\n",
       "    </tr>\n",
       "    <tr>\n",
       "      <th>8021118</th>\n",
       "      <td>I'm honestly not sure how I have never been to...</td>\n",
       "      <td>5</td>\n",
       "    </tr>\n",
       "    <tr>\n",
       "      <th>8021119</th>\n",
       "      <td>Food was decent but I will say the service too...</td>\n",
       "      <td>3</td>\n",
       "    </tr>\n",
       "    <tr>\n",
       "      <th>8021120</th>\n",
       "      <td>Oh yeah! Not only that the service was good, t...</td>\n",
       "      <td>5</td>\n",
       "    </tr>\n",
       "  </tbody>\n",
       "</table>\n",
       "<p>8021121 rows × 2 columns</p>\n",
       "</div>"
      ],
      "text/plain": [
       "                                                      text  stars\n",
       "0        I am actually horrified this place is still in...      1\n",
       "1        I love Deagan's. I do. I really do. The atmosp...      5\n",
       "2        Dismal, lukewarm, defrosted-tasting \"TexMex\" g...      1\n",
       "3        Oh happy day, finally have a Canes near my cas...      4\n",
       "4        This is definitely my favorite fast food sub s...      5\n",
       "...                                                    ...    ...\n",
       "8021116  Fricken unbelievable, I ordered 2 space heater...      1\n",
       "8021117  Solid American food with a southern comfort fl...      3\n",
       "8021118  I'm honestly not sure how I have never been to...      5\n",
       "8021119  Food was decent but I will say the service too...      3\n",
       "8021120  Oh yeah! Not only that the service was good, t...      5\n",
       "\n",
       "[8021121 rows x 2 columns]"
      ]
     },
     "execution_count": 13,
     "metadata": {},
     "output_type": "execute_result"
    }
   ],
   "source": [
    "simplified_reviews_pd"
   ]
  },
  {
   "cell_type": "code",
   "execution_count": 14,
   "metadata": {},
   "outputs": [
    {
     "data": {
      "text/plain": [
       "<matplotlib.axes._subplots.AxesSubplot at 0x7fd7bf4a25d0>"
      ]
     },
     "execution_count": 14,
     "metadata": {},
     "output_type": "execute_result"
    },
    {
     "data": {
      "image/png": "[encoded data removed]",
      "text/plain": [
       "<Figure size 432x288 with 1 Axes>"
      ]
     },
     "metadata": {
      "needs_background": "light"
     },
     "output_type": "display_data"
    }
   ],
   "source": [
    "sns.countplot(simplified_reviews_pd['stars'])"
   ]
  },
  {
   "cell_type": "markdown",
   "metadata": {},
   "source": [
    "### Create a balanced dataset\n",
    "In the following cells we try to create a balanced dataset with the same amount of records in each category."
   ]
  },
  {
   "cell_type": "code",
   "execution_count": 15,
   "metadata": {},
   "outputs": [],
   "source": [
    "counter_star = Counter(simplified_reviews_pd['stars'])"
   ]
  },
  {
   "cell_type": "code",
   "execution_count": 16,
   "metadata": {},
   "outputs": [
    {
     "data": {
      "text/plain": [
       "(2, 635071)"
      ]
     },
     "execution_count": 16,
     "metadata": {},
     "output_type": "execute_result"
    }
   ],
   "source": [
    "min_class = -1\n",
    "min_amount = 1000000000\n",
    "for cs in counter_star:\n",
    "    if min_amount > counter_star[cs]:\n",
    "        min_amount = counter_star[cs]\n",
    "        min_class = cs\n",
    "min_class, min_amount"
   ]
  },
  {
   "cell_type": "code",
   "execution_count": 17,
   "metadata": {},
   "outputs": [
    {
     "data": {
      "text/plain": [
       "{1: 648826, 5: 2951389, 4: 1038333, 3: 207218, 2: 0}"
      ]
     },
     "execution_count": 17,
     "metadata": {},
     "output_type": "execute_result"
    }
   ],
   "source": [
    "remove_amounts = {c: abs(min_amount - counter_star[c]) for c in counter_star}\n",
    "remove_amounts"
   ]
  },
  {
   "cell_type": "code",
   "execution_count": 18,
   "metadata": {},
   "outputs": [
    {
     "data": {
      "text/plain": [
       "{1: 648825, 5: 2951389, 4: 1038333, 3: 207218, 2: 0}"
      ]
     },
     "execution_count": 18,
     "metadata": {},
     "output_type": "execute_result"
    }
   ],
   "source": [
    "remove_amounts[1] -= 1\n",
    "remove_amounts"
   ]
  },
  {
   "cell_type": "markdown",
   "metadata": {},
   "source": [
    "Gathering all indices that are going to be deleted."
   ]
  },
  {
   "cell_type": "code",
   "execution_count": 19,
   "metadata": {},
   "outputs": [
    {
     "name": "stdout",
     "output_type": "stream",
     "text": [
      "CPU times: user 8min 6s, sys: 47.6 ms, total: 8min 6s\n",
      "Wall time: 8min 6s\n"
     ]
    },
    {
     "data": {
      "text/plain": [
       "4845765"
      ]
     },
     "execution_count": 19,
     "metadata": {},
     "output_type": "execute_result"
    }
   ],
   "source": [
    "%%time\n",
    "drop_indices = []\n",
    "for index, row in simplified_reviews_pd.iterrows():\n",
    "    if remove_amounts[row['stars']] > 0:\n",
    "        remove_amounts[row['stars']] -= 1\n",
    "        drop_indices.append(index)\n",
    "len(drop_indices)"
   ]
  },
  {
   "cell_type": "code",
   "execution_count": 20,
   "metadata": {},
   "outputs": [],
   "source": [
    "balanced_simplified_reviews = simplified_reviews_pd.drop(drop_indices)"
   ]
  },
  {
   "cell_type": "code",
   "execution_count": 21,
   "metadata": {},
   "outputs": [
    {
     "data": {
      "text/plain": [
       "<matplotlib.axes._subplots.AxesSubplot at 0x7fd7b9fcc610>"
      ]
     },
     "execution_count": 21,
     "metadata": {},
     "output_type": "execute_result"
    },
    {
     "data": {
      "image/png": "[encoded data removed]",
      "text/plain": [
       "<Figure size 432x288 with 1 Axes>"
      ]
     },
     "metadata": {
      "needs_background": "light"
     },
     "output_type": "display_data"
    }
   ],
   "source": [
    "sns.countplot(balanced_simplified_reviews['stars'])"
   ]
  },
  {
   "cell_type": "code",
   "execution_count": 22,
   "metadata": {},
   "outputs": [
    {
     "name": "stdout",
     "output_type": "stream",
     "text": [
      "<class 'pandas.core.frame.DataFrame'>\n",
      "Int64Index: 3175356 entries, 31 to 8021120\n",
      "Data columns (total 2 columns):\n",
      " #   Column  Dtype \n",
      "---  ------  ----- \n",
      " 0   text    object\n",
      " 1   stars   int64 \n",
      "dtypes: int64(1), object(1)\n",
      "memory usage: 72.7+ MB\n"
     ]
    }
   ],
   "source": [
    "balanced_simplified_reviews.info()"
   ]
  },
  {
   "cell_type": "code",
   "execution_count": 23,
   "metadata": {},
   "outputs": [],
   "source": [
    "balanced_simplified_reviews.to_pickle(path/'balanced_simplified_reviews_full.pkl')"
   ]
  },
  {
   "cell_type": "code",
   "execution_count": 27,
   "metadata": {},
   "outputs": [
    {
     "name": "stdout",
     "output_type": "stream",
     "text": [
      "2.1G\t/data/yelp/balanced_simplified_reviews_full.pkl\n"
     ]
    }
   ],
   "source": [
    "!du -h {path}/'balanced_simplified_reviews_full.pkl'"
   ]
  },
  {
   "cell_type": "code",
   "execution_count": null,
   "metadata": {},
   "outputs": [],
   "source": []
  }
 ],
 "metadata": {
  "kernelspec": {
   "display_name": "Python 3",
   "language": "python",
   "name": "python3"
  },
  "language_info": {
   "codemirror_mode": {
    "name": "ipython",
    "version": 3
   },
   "file_extension": ".py",
   "mimetype": "text/x-python",
   "name": "python",
   "nbconvert_exporter": "python",
   "pygments_lexer": "ipython3",
   "version": "3.7.7"
  }
 },
 "nbformat": 4,
 "nbformat_minor": 4
}
